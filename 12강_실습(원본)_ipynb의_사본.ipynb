{
  "nbformat": 4,
  "nbformat_minor": 0,
  "metadata": {
    "colab": {
      "provenance": [],
      "toc_visible": true,
      "include_colab_link": true
    },
    "kernelspec": {
      "name": "python3",
      "display_name": "Python 3"
    },
    "language_info": {
      "name": "python"
    }
  },
  "cells": [
    {
      "cell_type": "markdown",
      "metadata": {
        "id": "view-in-github",
        "colab_type": "text"
      },
      "source": [
        "<a href=\"https://colab.research.google.com/github/sksjw95/pythonconnecttest/blob/main/12%EA%B0%95_%EC%8B%A4%EC%8A%B5(%EC%9B%90%EB%B3%B8)_ipynb%EC%9D%98_%EC%82%AC%EB%B3%B8.ipynb\" target=\"_parent\"><img src=\"https://colab.research.google.com/assets/colab-badge.svg\" alt=\"Open In Colab\"/></a>"
      ]
    },
    {
      "cell_type": "markdown",
      "source": [
        "# 12강 실습"
      ],
      "metadata": {
        "id": "gsIqze9Vyw5b"
      }
    },
    {
      "cell_type": "markdown",
      "source": [
        "**12강 1절**"
      ],
      "metadata": {
        "id": "bQcXLxROy7C_"
      }
    },
    {
      "cell_type": "markdown",
      "source": [
        "'Khan.txt' 파일을 읽고 처리하는 프로그램을 작성하시오."
      ],
      "metadata": {
        "id": "CMTsz70kzLeS"
      }
    },
    {
      "cell_type": "code",
      "source": [
        "khan_fp = open(\"/content/Khan.txt\",\"a\")\n",
        "\n",
        "khan_fp.write(\"\\n\")\n",
        "khan_fp.write(format(\"-칭기스 칸-\",\">50s\"))\n",
        "khan_fp.close()"
      ],
      "metadata": {
        "id": "y5Pgve8zPFsC"
      },
      "execution_count": null,
      "outputs": []
    },
    {
      "cell_type": "markdown",
      "source": [],
      "metadata": {
        "id": "vzm1DPsYO9ns"
      }
    },
    {
      "cell_type": "markdown",
      "source": [
        "**12강 2절**"
      ],
      "metadata": {
        "id": "550wwIWMy_Fn"
      }
    },
    {
      "cell_type": "markdown",
      "source": [
        "\"hamlet_by_Shakespeare.txt\" 파일에 포함된 단어와 각 단어의 출현 횟수를 출력하는 프로그램을 작성하시오"
      ],
      "metadata": {
        "id": "ul20N9_MzMGh"
      }
    },
    {
      "cell_type": "code",
      "source": [
        "\n",
        "h_fp = open(\"/content/Hamlet_by_Shakespeare.txt\",\"r\")\n",
        "\n",
        "\n",
        "word_dict = dict()\n",
        "for line in h_fp.readlines():\n",
        "    for word in line.strip().split():\n",
        "        word = word.strip(\" ,.:?[]\\\"\\';-\").lower()\n",
        "\n",
        "        if word_dict.get(word) is not None:\n",
        "            count = word_dict[word]\n",
        "        else :\n",
        "            count = 0\n",
        "        word_dict[word] = count + 1\n",
        "\n",
        "for key in word_dict:\n",
        "    print(\"[\"+key+\"]\",str(word_dict[key])+\"\")\n",
        "\n",
        "h_fp.close()"
      ],
      "metadata": {
        "colab": {
          "base_uri": "https://localhost:8080/",
          "height": 224
        },
        "cellView": "code",
        "id": "LmENDdUK-Xtm",
        "outputId": "c38124a8-90fc-4f05-ccea-7cbb030cda8e"
      },
      "execution_count": 1,
      "outputs": [
        {
          "output_type": "error",
          "ename": "FileNotFoundError",
          "evalue": "[Errno 2] No such file or directory: '/content/Hamlet_by_Shakespeare.txt'",
          "traceback": [
            "\u001b[0;31m---------------------------------------------------------------------------\u001b[0m",
            "\u001b[0;31mFileNotFoundError\u001b[0m                         Traceback (most recent call last)",
            "\u001b[0;32m<ipython-input-1-57fd6b0d75e0>\u001b[0m in \u001b[0;36m<cell line: 1>\u001b[0;34m()\u001b[0m\n\u001b[0;32m----> 1\u001b[0;31m \u001b[0mh_fp\u001b[0m \u001b[0;34m=\u001b[0m \u001b[0mopen\u001b[0m\u001b[0;34m(\u001b[0m\u001b[0;34m\"/content/Hamlet_by_Shakespeare.txt\"\u001b[0m\u001b[0;34m,\u001b[0m\u001b[0;34m\"r\"\u001b[0m\u001b[0;34m)\u001b[0m\u001b[0;34m\u001b[0m\u001b[0;34m\u001b[0m\u001b[0m\n\u001b[0m\u001b[1;32m      2\u001b[0m \u001b[0;34m\u001b[0m\u001b[0m\n\u001b[1;32m      3\u001b[0m \u001b[0;34m\u001b[0m\u001b[0m\n\u001b[1;32m      4\u001b[0m \u001b[0mword_dict\u001b[0m \u001b[0;34m=\u001b[0m \u001b[0mdict\u001b[0m\u001b[0;34m(\u001b[0m\u001b[0;34m)\u001b[0m\u001b[0;34m\u001b[0m\u001b[0;34m\u001b[0m\u001b[0m\n\u001b[1;32m      5\u001b[0m \u001b[0;32mfor\u001b[0m \u001b[0mline\u001b[0m \u001b[0;32min\u001b[0m \u001b[0mh_fp\u001b[0m\u001b[0;34m.\u001b[0m\u001b[0mreadlines\u001b[0m\u001b[0;34m(\u001b[0m\u001b[0;34m)\u001b[0m\u001b[0;34m:\u001b[0m\u001b[0;34m\u001b[0m\u001b[0;34m\u001b[0m\u001b[0m\n",
            "\u001b[0;31mFileNotFoundError\u001b[0m: [Errno 2] No such file or directory: '/content/Hamlet_by_Shakespeare.txt'"
          ]
        }
      ]
    },
    {
      "cell_type": "markdown",
      "source": [
        "'hamlet_by_Shakespeare.txt' 파일에 포함된 단어 중 출현한 횟수가 100 이상되는 단어와 출력 횟수를 출력하는 프로그램을 작성하시오\n"
      ],
      "metadata": {
        "id": "5ui2teFoHcsF"
      }
    },
    {
      "cell_type": "code",
      "source": [
        "h_fp = open(\"/content/Hamlet_by_Shakespeare.txt\",\"r\")\n",
        "\n",
        "\n",
        "word_dict = dict()\n",
        "for line in h_fp.readlines():\n",
        "    for word in line.strip().split():\n",
        "        word = word.strip(\" ,.:?[]\\\"\\';-!\").lower()\n",
        "\n",
        "        if word_dict.get(word) is not None:\n",
        "            count = word_dict[word]\n",
        "        else :\n",
        "            count = 0\n",
        "        word_dict[word] = count + 1\n",
        "\n",
        "word_r_dict = {v:k for (k,v) in word_dict.items()}\n",
        "\n",
        "\n",
        "word_dict = {k:v for(v,k) in sorted(word_r_dict.items(), reverse = True)}\n",
        "\n",
        "for key in word_dict:\n",
        "    if word_dict[key] >= 100:\n",
        "        print(\"[\"+key+\"]\",str(word_dict[key])+\"회\")\n",
        "\n",
        "h_fp.close()"
      ],
      "metadata": {
        "id": "8hkroqVlX69s",
        "colab": {
          "base_uri": "https://localhost:8080/"
        },
        "outputId": "35364a1a-b4a5-46fd-e7d4-c19c572f09a6"
      },
      "execution_count": null,
      "outputs": [
        {
          "output_type": "stream",
          "name": "stdout",
          "text": [
            "[the] 1086회\n",
            "[and] 965회\n",
            "[to] 758회\n",
            "[of] 678회\n",
            "[i] 563회\n",
            "[you] 553회\n",
            "[a] 532회\n",
            "[my] 515회\n",
            "[hamlet] 468회\n",
            "[in] 439회\n",
            "[it] 415회\n",
            "[that] 385회\n",
            "[is] 358회\n",
            "[not] 312회\n",
            "[his] 306회\n",
            "[this] 299회\n",
            "[with] 277회\n",
            "[but] 274회\n",
            "[he] 253회\n",
            "[for] 249회\n",
            "[your] 242회\n",
            "[me] 230회\n",
            "[be] 223회\n",
            "[as] 218회\n",
            "[what] 203회\n",
            "[king] 198회\n",
            "[him] 195회\n",
            "[so] 190회\n",
            "[have] 181회\n",
            "[will] 170회\n",
            "[do] 160회\n",
            "[horatio] 154회\n",
            "[no] 139회\n",
            "[we] 138회\n",
            "[on] 135회\n",
            "[are] 130회\n",
            "[all] 125회\n",
            "[queen] 122회\n",
            "[by] 121회\n",
            "[our] 120회\n",
            "[polonius] 119회\n",
            "[they] 118회\n",
            "[shall] 117회\n",
            "[if] 113회\n",
            "[or] 112회\n",
            "[laertes] 109회\n",
            "[thou] 108회\n",
            "[come] 107회\n",
            "[good] 105회\n",
            "[now] 100회\n"
          ]
        }
      ]
    }
  ]
}